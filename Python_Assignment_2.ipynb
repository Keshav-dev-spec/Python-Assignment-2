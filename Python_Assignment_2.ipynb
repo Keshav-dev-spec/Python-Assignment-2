{
  "nbformat": 4,
  "nbformat_minor": 0,
  "metadata": {
    "colab": {
      "name": "Python Assignment 2.ipynb",
      "provenance": [],
      "collapsed_sections": []
    },
    "kernelspec": {
      "name": "python3",
      "display_name": "Python 3"
    }
  },
  "cells": [
    {
      "cell_type": "markdown",
      "metadata": {
        "id": "wAzG0lbDi3QV"
      },
      "source": [
        "1.Create the below pattern using nested for loop in python\r\n",
        "*\r\n",
        "* *\r\n",
        "* * *\r\n",
        "* * * *\r\n",
        "* * * * *\r\n",
        "* * * *\r\n",
        "* * * \r\n",
        "* *\r\n",
        "*"
      ]
    },
    {
      "cell_type": "code",
      "metadata": {
        "colab": {
          "base_uri": "https://localhost:8080/"
        },
        "id": "aa9lAUcbisoI",
        "outputId": "61b71067-6ac0-40ac-d14f-38d08cc5285f"
      },
      "source": [
        "for i in range (1,10):\r\n",
        "  if(i<=5):\r\n",
        "    for j in range(1,i+1):\r\n",
        "      print(\"*\",end=\" \")\r\n",
        "    print(\"\")\r\n",
        "  else:\r\n",
        "    for j in range(1,10-i+1):\r\n",
        "      print(\"*\",end=\" \")\r\n",
        "    print(\"\")"
      ],
      "execution_count": 1,
      "outputs": [
        {
          "output_type": "stream",
          "text": [
            "* \n",
            "* * \n",
            "* * * \n",
            "* * * * \n",
            "* * * * * \n",
            "* * * * \n",
            "* * * \n",
            "* * \n",
            "* \n"
          ],
          "name": "stdout"
        }
      ]
    },
    {
      "cell_type": "markdown",
      "metadata": {
        "id": "dHELlXY-l_kt"
      },
      "source": [
        "2. Write a Python program to reverse a word after accepting the input from the user."
      ]
    },
    {
      "cell_type": "code",
      "metadata": {
        "colab": {
          "base_uri": "https://localhost:8080/"
        },
        "id": "inpn6B0CmFRk",
        "outputId": "9048f3bc-987b-44a8-82bd-f937dba41866"
      },
      "source": [
        "s=input(\"enter a string: \")\r\n",
        "str = \"\" \r\n",
        "for i in s: \r\n",
        "  str = i + str\r\n",
        "print(str)"
      ],
      "execution_count": 2,
      "outputs": [
        {
          "output_type": "stream",
          "text": [
            "enter a string: keshav\n",
            "vahsek\n"
          ],
          "name": "stdout"
        }
      ]
    }
  ]
}